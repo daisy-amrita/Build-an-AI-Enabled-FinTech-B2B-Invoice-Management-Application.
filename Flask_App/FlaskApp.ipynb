{
 "cells": [
  {
   "cell_type": "code",
   "execution_count": 39,
   "id": "94b9f09d",
   "metadata": {},
   "outputs": [],
   "source": [
    "from flask import Flask,jsonify, request\n",
    "from flask_cors import CORS, cross_origin"
   ]
  },
  {
   "cell_type": "code",
   "execution_count": 1,
   "id": "a7142beb",
   "metadata": {},
   "outputs": [],
   "source": [
    "import pickle\n",
    "import pandas as pd\n",
    "import numpy as np"
   ]
  },
  {
   "cell_type": "code",
   "execution_count": 90,
   "id": "df20792f",
   "metadata": {},
   "outputs": [],
   "source": [
    "currency_rates={'AED': 0.27,\n",
    " 'SAR': 0.27,\n",
    " 'BHD': 2.65,\n",
    " 'KWD': 3.25,\n",
    " 'QAR': 0.27,\n",
    " 'EUR': 1.0981,\n",
    " 'CHF': 1.1191,\n",
    " 'CZK': 0.047,\n",
    " 'GBP': 1.2426,\n",
    " 'RON': 0.2222,\n",
    " 'USD': 1.0,\n",
    " 'PLN': 0.2372,\n",
    " 'HU1': 0.003,\n",
    " 'SEK': 0.097,\n",
    " 'CAD': 0.7484,\n",
    " 'HKD': 0.1274,\n",
    " 'AUD': 0.6714,\n",
    " 'MYR': 0.2261,\n",
    " 'SGD': 0.7514,\n",
    " 'NZD': 0.6198}"
   ]
  },
  {
   "cell_type": "code",
   "execution_count": 2,
   "id": "925b1cba",
   "metadata": {},
   "outputs": [],
   "source": [
    "with open('./model.pkl','rb') as f:\n",
    "    model=pickle.load(f)"
   ]
  },
  {
   "cell_type": "code",
   "execution_count": 3,
   "id": "f6c53be8",
   "metadata": {},
   "outputs": [],
   "source": [
    "with open('./scalar_feature.pkl','rb') as f:\n",
    "    feature_scalar=pickle.load(f)"
   ]
  },
  {
   "cell_type": "code",
   "execution_count": 4,
   "id": "932e1657",
   "metadata": {},
   "outputs": [],
   "source": [
    "with open('./scalar_target.pkl','rb') as f:\n",
    "    result_scalar=pickle.load(f)"
   ]
  },
  {
   "cell_type": "code",
   "execution_count": 5,
   "id": "614767c6",
   "metadata": {},
   "outputs": [],
   "source": [
    "encoders=[\"dc\",\"div\",\"oc\",\"pot\",\"cca\"]"
   ]
  },
  {
   "cell_type": "code",
   "execution_count": 6,
   "id": "d0659a66",
   "metadata": {},
   "outputs": [],
   "source": [
    "label_encoders={}\n",
    "for i in encoders:\n",
    "    with open('./encoder'+i+'.pkl','rb') as f:\n",
    "        label_encoders[i]=pickle.load(f)"
   ]
  },
  {
   "cell_type": "code",
   "execution_count": 7,
   "id": "a07f0744",
   "metadata": {},
   "outputs": [],
   "source": [
    "selected_features=['SALES_ORG', 'DISTRIBUTION_CHANNEL', 'DIVISION',\n",
    "       'RELEASED_CREDIT_VALUE', 'PURCHASE_ORDER_TYPE', 'COMPANY_CODE',\n",
    "       'ORDER_CREATION_TIME', 'CREDIT_CONTROL_AREA', 'SOLD_TO_PARTY',\n",
    "       'ORDER_CURRENCY', 'CREDIT_STATUS', 'UNIQUE_CUST_ID', 'OCDATE',\n",
    "       'OCMONTH', 'OCDAY', 'RDDATE', 'RDMONTH', 'RDDAY', 'DAYS_TO_PROCESS']"
   ]
  },
  {
   "cell_type": "code",
   "execution_count": 8,
   "id": "6fce29f3",
   "metadata": {},
   "outputs": [],
   "source": [
    "label_encoded_columns=['DISTRIBUTION_CHANNEL', 'DIVISION', 'PURCHASE_ORDER_TYPE','CREDIT_CONTROL_AREA', 'ORDER_CURRENCY']"
   ]
  },
  {
   "cell_type": "code",
   "execution_count": 115,
   "id": "4c9c53a1",
   "metadata": {
    "scrolled": true
   },
   "outputs": [
    {
     "name": "stdout",
     "output_type": "stream",
     "text": [
      "<class 'list'>\n",
      "SL_NO                      0\n",
      "CUSTOMER_ORDER_ID          0\n",
      "SALES_ORG                  0\n",
      "DISTRIBUTION_CHANNEL       0\n",
      "DIVISION                   0\n",
      "RELEASED_CREDIT_VALUE      0\n",
      "PURCHASE_ORDER_TYPE        0\n",
      "COMPANY_CODE               0\n",
      "ORDER_CREATION_DATE        0\n",
      "ORDER_CREATION_TIME        0\n",
      "CREDIT_CONTROL_AREA        0\n",
      "SOLD_TO_PARTY              0\n",
      "ORDER_AMOUNT               0\n",
      "REQUESTED_DELIVERY_DATE    0\n",
      "ORDER_CURRENCY             0\n",
      "CREDIT_STATUS              0\n",
      "CUSTOMER_NUMBER            0\n",
      "AMOUNT_IN_USD              0\n",
      "UNIQUE_CUST_ID             0\n",
      "id                         0\n",
      "dtype: int64\n",
      "[[4.0, 162.44232177734375, 178.3779135437012], [8.0, 705.1736450195312, 774.3511795959473], [10.0, 1734.192626953125, 1904.3169236572267], [12.0, 705.1736450195312, 774.3511795959473], [14.0, 705.1736450195312, 774.3511795959473], [15.0, 705.1736450195312, 774.3511795959473], [42.0, 478.9201965332031, 525.9022678131104], [43.0, 477.6278076171875, 524.4830955444336], [45.0, 904.8527221679688, 993.6187742126466]]\n"
     ]
    }
   ],
   "source": [
    "with open('./data.pkl','rb') as f:\n",
    "    print(get_prediction(pickle.load(f)))"
   ]
  },
  {
   "cell_type": "code",
   "execution_count": 89,
   "id": "03e12224",
   "metadata": {},
   "outputs": [],
   "source": [
    "def convert_currency(a,currency):\n",
    "    return currency_rates[currency]*float(a)"
   ]
  },
  {
   "cell_type": "code",
   "execution_count": 118,
   "id": "d3e82e8c",
   "metadata": {},
   "outputs": [],
   "source": [
    "df={}\n",
    "def get_prediction(df):\n",
    "    data=pd.DataFrame(df)\n",
    "    ids=list(map(int,data['id']))\n",
    "    currency=data['ORDER_CURRENCY']\n",
    "    \n",
    "    data['REQUESTED_DELIVERY_DATE']=pd.to_datetime(data['REQUESTED_DELIVERY_DATE'],format='%d-%m-%Y')\n",
    "    data['ORDER_CREATION_DATE']=pd.to_datetime(data['ORDER_CREATION_DATE'],format='%d-%m-%Y')\n",
    "    \n",
    "    data['OCDATE']=data['ORDER_CREATION_DATE'].dt.day\n",
    "    data['OCMONTH']=data['ORDER_CREATION_DATE'].dt.month\n",
    "    data['OCDAY']=data['ORDER_CREATION_DATE'].dt.weekday\n",
    "\n",
    "    data['RDDATE']=data['REQUESTED_DELIVERY_DATE'].dt.day\n",
    "    data['RDMONTH']=data['REQUESTED_DELIVERY_DATE'].dt.month\n",
    "    data['RDDAY']=data['REQUESTED_DELIVERY_DATE'].dt.weekday\n",
    "\n",
    "    data['DAYS_TO_PROCESS']=(data['REQUESTED_DELIVERY_DATE']-data['ORDER_CREATION_DATE']).dt.days\n",
    "    data=data[selected_features]\n",
    "    \n",
    "    data['CREDIT_STATUS'].replace('','74',inplace=True)\n",
    "    data['CREDIT_STATUS']=data['CREDIT_STATUS'].astype('float64')\n",
    "    data['PURCHASE_ORDER_TYPE'].fillna('NEWCAT',inplace=True)\n",
    "    \n",
    "    data['DISTRIBUTION_CHANNEL']=list(label_encoders['dc'].transform(data['DISTRIBUTION_CHANNEL']))\n",
    "    data['DIVISION']=list(label_encoders['div'].transform(data['DIVISION']))\n",
    "    data['PURCHASE_ORDER_TYPE']=list(label_encoders['pot'].transform(data['PURCHASE_ORDER_TYPE']))\n",
    "    data['CREDIT_CONTROL_AREA']=list(label_encoders['cca'].transform(data['CREDIT_CONTROL_AREA']))\n",
    "    data['ORDER_CURRENCY']=list(label_encoders['oc'].transform(data['ORDER_CURRENCY']))\n",
    "    \n",
    "    \n",
    "    data['RELEASED_CREDIT_VALUE']=data['RELEASED_CREDIT_VALUE'].apply(lambda a:np.log(a+1))\n",
    "    \n",
    "    data['ORDER_CREATION_TIME']=data['ORDER_CREATION_TIME'].astype('int64')\n",
    "    data=feature_scalar.transform(data)\n",
    "    sacl=result_scalar.inverse_transform(model.predict(data).reshape(-1,1))\n",
    "    \n",
    "    \n",
    "    \n",
    "    resp=list(pd.DataFrame(sacl).apply(np.exp).values.flatten())\n",
    "    amt_usd=list(map(convert_currency,resp,currency))\n",
    "    \n",
    "    place_holder=list(np.array([[*ids],[*resp],[*amt_usd]]).transpose())\n",
    "    response=[]\n",
    "    for i in place_holder:\n",
    "        response.append(list(i))\n",
    "        \n",
    "    return response\n",
    "    \n",
    "    \n",
    "    \n",
    "    "
   ]
  },
  {
   "cell_type": "code",
   "execution_count": null,
   "id": "2312ecad",
   "metadata": {
    "scrolled": false
   },
   "outputs": [
    {
     "name": "stdout",
     "output_type": "stream",
     "text": [
      " * Serving Flask app '__main__'\n",
      " * Debug mode: off\n"
     ]
    },
    {
     "name": "stderr",
     "output_type": "stream",
     "text": [
      "WARNING: This is a development server. Do not use it in a production deployment. Use a production WSGI server instead.\n",
      " * Running on http://127.0.0.1:5000\n",
      "Press CTRL+C to quit\n",
      "127.0.0.1 - - [22/Jun/2023 22:49:30] \"OPTIONS /predict HTTP/1.1\" 200 -\n",
      "127.0.0.1 - - [22/Jun/2023 22:49:30] \"POST /predict HTTP/1.1\" 200 -\n"
     ]
    },
    {
     "name": "stdout",
     "output_type": "stream",
     "text": [
      "[{'SL_NO': 4, 'CUSTOMER_ORDER_ID': 930253442, 'SALES_ORG': 2381, 'DISTRIBUTION_CHANNEL': 'Greece', 'DIVISION': 'South-Region', 'RELEASED_CREDIT_VALUE': 0, 'PURCHASE_ORDER_TYPE': 'N000', 'COMPANY_CODE': 3290, 'ORDER_CREATION_DATE': '01-01-2022', 'ORDER_CREATION_TIME': '160020', 'CREDIT_CONTROL_AREA': 'SR01', 'SOLD_TO_PARTY': 947942786, 'ORDER_AMOUNT': 0, 'REQUESTED_DELIVERY_DATE': '06-01-2022', 'ORDER_CURRENCY': 'EUR', 'CREDIT_STATUS': '64', 'CUSTOMER_NUMBER': 1210351400, 'AMOUNT_IN_USD': 0, 'UNIQUE_CUST_ID': 12103514003290, 'id': 4}]\n",
      "<class 'list'>\n",
      "SL_NO                      0\n",
      "CUSTOMER_ORDER_ID          0\n",
      "SALES_ORG                  0\n",
      "DISTRIBUTION_CHANNEL       0\n",
      "DIVISION                   0\n",
      "RELEASED_CREDIT_VALUE      0\n",
      "PURCHASE_ORDER_TYPE        0\n",
      "COMPANY_CODE               0\n",
      "ORDER_CREATION_DATE        0\n",
      "ORDER_CREATION_TIME        0\n",
      "CREDIT_CONTROL_AREA        0\n",
      "SOLD_TO_PARTY              0\n",
      "ORDER_AMOUNT               0\n",
      "REQUESTED_DELIVERY_DATE    0\n",
      "ORDER_CURRENCY             0\n",
      "CREDIT_STATUS              0\n",
      "CUSTOMER_NUMBER            0\n",
      "AMOUNT_IN_USD              0\n",
      "UNIQUE_CUST_ID             0\n",
      "id                         0\n",
      "dtype: int64\n"
     ]
    },
    {
     "name": "stderr",
     "output_type": "stream",
     "text": [
      "127.0.0.1 - - [22/Jun/2023 22:50:15] \"OPTIONS /predict HTTP/1.1\" 200 -\n",
      "127.0.0.1 - - [22/Jun/2023 22:50:15] \"POST /predict HTTP/1.1\" 200 -\n"
     ]
    },
    {
     "name": "stdout",
     "output_type": "stream",
     "text": [
      "[{'SL_NO': 4, 'CUSTOMER_ORDER_ID': 930253442, 'SALES_ORG': 2381, 'DISTRIBUTION_CHANNEL': 'Greece', 'DIVISION': 'South-Region', 'RELEASED_CREDIT_VALUE': 0, 'PURCHASE_ORDER_TYPE': 'N000', 'COMPANY_CODE': 3290, 'ORDER_CREATION_DATE': '01-01-2022', 'ORDER_CREATION_TIME': '160020', 'CREDIT_CONTROL_AREA': 'SR01', 'SOLD_TO_PARTY': 947942786, 'ORDER_AMOUNT': 0, 'REQUESTED_DELIVERY_DATE': '06-01-2022', 'ORDER_CURRENCY': 'EUR', 'CREDIT_STATUS': '64', 'CUSTOMER_NUMBER': 1210351400, 'AMOUNT_IN_USD': 0, 'UNIQUE_CUST_ID': 12103514003290, 'id': 4}]\n",
      "<class 'list'>\n",
      "SL_NO                      0\n",
      "CUSTOMER_ORDER_ID          0\n",
      "SALES_ORG                  0\n",
      "DISTRIBUTION_CHANNEL       0\n",
      "DIVISION                   0\n",
      "RELEASED_CREDIT_VALUE      0\n",
      "PURCHASE_ORDER_TYPE        0\n",
      "COMPANY_CODE               0\n",
      "ORDER_CREATION_DATE        0\n",
      "ORDER_CREATION_TIME        0\n",
      "CREDIT_CONTROL_AREA        0\n",
      "SOLD_TO_PARTY              0\n",
      "ORDER_AMOUNT               0\n",
      "REQUESTED_DELIVERY_DATE    0\n",
      "ORDER_CURRENCY             0\n",
      "CREDIT_STATUS              0\n",
      "CUSTOMER_NUMBER            0\n",
      "AMOUNT_IN_USD              0\n",
      "UNIQUE_CUST_ID             0\n",
      "id                         0\n",
      "dtype: int64\n"
     ]
    },
    {
     "name": "stderr",
     "output_type": "stream",
     "text": [
      "127.0.0.1 - - [22/Jun/2023 22:50:59] \"OPTIONS /predict HTTP/1.1\" 200 -\n",
      "127.0.0.1 - - [22/Jun/2023 22:51:00] \"POST /predict HTTP/1.1\" 200 -\n"
     ]
    },
    {
     "name": "stdout",
     "output_type": "stream",
     "text": [
      "[{'SL_NO': 4, 'CUSTOMER_ORDER_ID': 930253442, 'SALES_ORG': 2381, 'DISTRIBUTION_CHANNEL': 'Greece', 'DIVISION': 'South-Region', 'RELEASED_CREDIT_VALUE': 0, 'PURCHASE_ORDER_TYPE': 'N000', 'COMPANY_CODE': 3290, 'ORDER_CREATION_DATE': '01-01-2022', 'ORDER_CREATION_TIME': '160020', 'CREDIT_CONTROL_AREA': 'SR01', 'SOLD_TO_PARTY': 947942786, 'ORDER_AMOUNT': 0, 'REQUESTED_DELIVERY_DATE': '06-01-2022', 'ORDER_CURRENCY': 'EUR', 'CREDIT_STATUS': '64', 'CUSTOMER_NUMBER': 1210351400, 'AMOUNT_IN_USD': 0, 'UNIQUE_CUST_ID': 12103514003290, 'id': 4}]\n",
      "<class 'list'>\n",
      "SL_NO                      0\n",
      "CUSTOMER_ORDER_ID          0\n",
      "SALES_ORG                  0\n",
      "DISTRIBUTION_CHANNEL       0\n",
      "DIVISION                   0\n",
      "RELEASED_CREDIT_VALUE      0\n",
      "PURCHASE_ORDER_TYPE        0\n",
      "COMPANY_CODE               0\n",
      "ORDER_CREATION_DATE        0\n",
      "ORDER_CREATION_TIME        0\n",
      "CREDIT_CONTROL_AREA        0\n",
      "SOLD_TO_PARTY              0\n",
      "ORDER_AMOUNT               0\n",
      "REQUESTED_DELIVERY_DATE    0\n",
      "ORDER_CURRENCY             0\n",
      "CREDIT_STATUS              0\n",
      "CUSTOMER_NUMBER            0\n",
      "AMOUNT_IN_USD              0\n",
      "UNIQUE_CUST_ID             0\n",
      "id                         0\n",
      "dtype: int64\n"
     ]
    },
    {
     "name": "stderr",
     "output_type": "stream",
     "text": [
      "127.0.0.1 - - [22/Jun/2023 22:51:44] \"OPTIONS /predict HTTP/1.1\" 200 -\n",
      "127.0.0.1 - - [22/Jun/2023 22:51:44] \"POST /predict HTTP/1.1\" 200 -\n"
     ]
    },
    {
     "name": "stdout",
     "output_type": "stream",
     "text": [
      "[{'SL_NO': 4, 'CUSTOMER_ORDER_ID': 930253442, 'SALES_ORG': 2381, 'DISTRIBUTION_CHANNEL': 'Greece', 'DIVISION': 'South-Region', 'RELEASED_CREDIT_VALUE': 0, 'PURCHASE_ORDER_TYPE': 'N000', 'COMPANY_CODE': 3290, 'ORDER_CREATION_DATE': '01-01-2022', 'ORDER_CREATION_TIME': '160020', 'CREDIT_CONTROL_AREA': 'SR01', 'SOLD_TO_PARTY': 947942786, 'ORDER_AMOUNT': 0, 'REQUESTED_DELIVERY_DATE': '06-01-2022', 'ORDER_CURRENCY': 'EUR', 'CREDIT_STATUS': '64', 'CUSTOMER_NUMBER': 1210351400, 'AMOUNT_IN_USD': 0, 'UNIQUE_CUST_ID': 12103514003290, 'id': 4}]\n",
      "<class 'list'>\n",
      "SL_NO                      0\n",
      "CUSTOMER_ORDER_ID          0\n",
      "SALES_ORG                  0\n",
      "DISTRIBUTION_CHANNEL       0\n",
      "DIVISION                   0\n",
      "RELEASED_CREDIT_VALUE      0\n",
      "PURCHASE_ORDER_TYPE        0\n",
      "COMPANY_CODE               0\n",
      "ORDER_CREATION_DATE        0\n",
      "ORDER_CREATION_TIME        0\n",
      "CREDIT_CONTROL_AREA        0\n",
      "SOLD_TO_PARTY              0\n",
      "ORDER_AMOUNT               0\n",
      "REQUESTED_DELIVERY_DATE    0\n",
      "ORDER_CURRENCY             0\n",
      "CREDIT_STATUS              0\n",
      "CUSTOMER_NUMBER            0\n",
      "AMOUNT_IN_USD              0\n",
      "UNIQUE_CUST_ID             0\n",
      "id                         0\n",
      "dtype: int64\n"
     ]
    },
    {
     "name": "stderr",
     "output_type": "stream",
     "text": [
      "127.0.0.1 - - [22/Jun/2023 22:52:27] \"OPTIONS /predict HTTP/1.1\" 200 -\n",
      "127.0.0.1 - - [22/Jun/2023 22:52:27] \"POST /predict HTTP/1.1\" 200 -\n"
     ]
    },
    {
     "name": "stdout",
     "output_type": "stream",
     "text": [
      "[{'SL_NO': 4, 'CUSTOMER_ORDER_ID': 930253442, 'SALES_ORG': 2381, 'DISTRIBUTION_CHANNEL': 'Greece', 'DIVISION': 'South-Region', 'RELEASED_CREDIT_VALUE': 0, 'PURCHASE_ORDER_TYPE': 'N000', 'COMPANY_CODE': 3290, 'ORDER_CREATION_DATE': '01-01-2022', 'ORDER_CREATION_TIME': '160020', 'CREDIT_CONTROL_AREA': 'SR01', 'SOLD_TO_PARTY': 947942786, 'ORDER_AMOUNT': 0, 'REQUESTED_DELIVERY_DATE': '06-01-2022', 'ORDER_CURRENCY': 'EUR', 'CREDIT_STATUS': '64', 'CUSTOMER_NUMBER': 1210351400, 'AMOUNT_IN_USD': 0, 'UNIQUE_CUST_ID': 12103514003290, 'id': 4}]\n",
      "<class 'list'>\n",
      "SL_NO                      0\n",
      "CUSTOMER_ORDER_ID          0\n",
      "SALES_ORG                  0\n",
      "DISTRIBUTION_CHANNEL       0\n",
      "DIVISION                   0\n",
      "RELEASED_CREDIT_VALUE      0\n",
      "PURCHASE_ORDER_TYPE        0\n",
      "COMPANY_CODE               0\n",
      "ORDER_CREATION_DATE        0\n",
      "ORDER_CREATION_TIME        0\n",
      "CREDIT_CONTROL_AREA        0\n",
      "SOLD_TO_PARTY              0\n",
      "ORDER_AMOUNT               0\n",
      "REQUESTED_DELIVERY_DATE    0\n",
      "ORDER_CURRENCY             0\n",
      "CREDIT_STATUS              0\n",
      "CUSTOMER_NUMBER            0\n",
      "AMOUNT_IN_USD              0\n",
      "UNIQUE_CUST_ID             0\n",
      "id                         0\n",
      "dtype: int64\n"
     ]
    },
    {
     "name": "stderr",
     "output_type": "stream",
     "text": [
      "127.0.0.1 - - [22/Jun/2023 22:53:02] \"OPTIONS /predict HTTP/1.1\" 200 -\n",
      "127.0.0.1 - - [22/Jun/2023 22:53:02] \"POST /predict HTTP/1.1\" 200 -\n"
     ]
    },
    {
     "name": "stdout",
     "output_type": "stream",
     "text": [
      "[{'SL_NO': 4, 'CUSTOMER_ORDER_ID': 930253442, 'SALES_ORG': 2381, 'DISTRIBUTION_CHANNEL': 'Greece', 'DIVISION': 'South-Region', 'RELEASED_CREDIT_VALUE': 0, 'PURCHASE_ORDER_TYPE': 'N000', 'COMPANY_CODE': 3290, 'ORDER_CREATION_DATE': '01-01-2022', 'ORDER_CREATION_TIME': '160020', 'CREDIT_CONTROL_AREA': 'SR01', 'SOLD_TO_PARTY': 947942786, 'ORDER_AMOUNT': 0, 'REQUESTED_DELIVERY_DATE': '06-01-2022', 'ORDER_CURRENCY': 'EUR', 'CREDIT_STATUS': '64', 'CUSTOMER_NUMBER': 1210351400, 'AMOUNT_IN_USD': 0, 'UNIQUE_CUST_ID': 12103514003290, 'id': 4}]\n",
      "<class 'list'>\n",
      "SL_NO                      0\n",
      "CUSTOMER_ORDER_ID          0\n",
      "SALES_ORG                  0\n",
      "DISTRIBUTION_CHANNEL       0\n",
      "DIVISION                   0\n",
      "RELEASED_CREDIT_VALUE      0\n",
      "PURCHASE_ORDER_TYPE        0\n",
      "COMPANY_CODE               0\n",
      "ORDER_CREATION_DATE        0\n",
      "ORDER_CREATION_TIME        0\n",
      "CREDIT_CONTROL_AREA        0\n",
      "SOLD_TO_PARTY              0\n",
      "ORDER_AMOUNT               0\n",
      "REQUESTED_DELIVERY_DATE    0\n",
      "ORDER_CURRENCY             0\n",
      "CREDIT_STATUS              0\n",
      "CUSTOMER_NUMBER            0\n",
      "AMOUNT_IN_USD              0\n",
      "UNIQUE_CUST_ID             0\n",
      "id                         0\n",
      "dtype: int64\n"
     ]
    },
    {
     "name": "stderr",
     "output_type": "stream",
     "text": [
      "127.0.0.1 - - [22/Jun/2023 22:54:15] \"OPTIONS /predict HTTP/1.1\" 200 -\n",
      "127.0.0.1 - - [22/Jun/2023 22:54:15] \"POST /predict HTTP/1.1\" 200 -\n"
     ]
    },
    {
     "name": "stdout",
     "output_type": "stream",
     "text": [
      "[{'SL_NO': 4, 'CUSTOMER_ORDER_ID': 930253442, 'SALES_ORG': 2381, 'DISTRIBUTION_CHANNEL': 'Greece', 'DIVISION': 'South-Region', 'RELEASED_CREDIT_VALUE': 0, 'PURCHASE_ORDER_TYPE': 'N000', 'COMPANY_CODE': 3290, 'ORDER_CREATION_DATE': '01-01-2022', 'ORDER_CREATION_TIME': '160020', 'CREDIT_CONTROL_AREA': 'SR01', 'SOLD_TO_PARTY': 947942786, 'ORDER_AMOUNT': 0, 'REQUESTED_DELIVERY_DATE': '06-01-2022', 'ORDER_CURRENCY': 'EUR', 'CREDIT_STATUS': '64', 'CUSTOMER_NUMBER': 1210351400, 'AMOUNT_IN_USD': 0, 'UNIQUE_CUST_ID': 12103514003290, 'id': 4}]\n",
      "<class 'list'>\n",
      "SL_NO                      0\n",
      "CUSTOMER_ORDER_ID          0\n",
      "SALES_ORG                  0\n",
      "DISTRIBUTION_CHANNEL       0\n",
      "DIVISION                   0\n",
      "RELEASED_CREDIT_VALUE      0\n",
      "PURCHASE_ORDER_TYPE        0\n",
      "COMPANY_CODE               0\n",
      "ORDER_CREATION_DATE        0\n",
      "ORDER_CREATION_TIME        0\n",
      "CREDIT_CONTROL_AREA        0\n",
      "SOLD_TO_PARTY              0\n",
      "ORDER_AMOUNT               0\n",
      "REQUESTED_DELIVERY_DATE    0\n",
      "ORDER_CURRENCY             0\n",
      "CREDIT_STATUS              0\n",
      "CUSTOMER_NUMBER            0\n",
      "AMOUNT_IN_USD              0\n",
      "UNIQUE_CUST_ID             0\n",
      "id                         0\n",
      "dtype: int64\n"
     ]
    },
    {
     "name": "stderr",
     "output_type": "stream",
     "text": [
      "127.0.0.1 - - [22/Jun/2023 22:54:48] \"OPTIONS /predict HTTP/1.1\" 200 -\n",
      "127.0.0.1 - - [22/Jun/2023 22:54:48] \"POST /predict HTTP/1.1\" 200 -\n"
     ]
    },
    {
     "name": "stdout",
     "output_type": "stream",
     "text": [
      "[{'SL_NO': 4, 'CUSTOMER_ORDER_ID': 930253442, 'SALES_ORG': 2381, 'DISTRIBUTION_CHANNEL': 'Greece', 'DIVISION': 'South-Region', 'RELEASED_CREDIT_VALUE': 0, 'PURCHASE_ORDER_TYPE': 'N000', 'COMPANY_CODE': 3290, 'ORDER_CREATION_DATE': '01-01-2022', 'ORDER_CREATION_TIME': '160020', 'CREDIT_CONTROL_AREA': 'SR01', 'SOLD_TO_PARTY': 947942786, 'ORDER_AMOUNT': 0, 'REQUESTED_DELIVERY_DATE': '06-01-2022', 'ORDER_CURRENCY': 'EUR', 'CREDIT_STATUS': '64', 'CUSTOMER_NUMBER': 1210351400, 'AMOUNT_IN_USD': 0, 'UNIQUE_CUST_ID': 12103514003290, 'id': 4}]\n",
      "<class 'list'>\n",
      "SL_NO                      0\n",
      "CUSTOMER_ORDER_ID          0\n",
      "SALES_ORG                  0\n",
      "DISTRIBUTION_CHANNEL       0\n",
      "DIVISION                   0\n",
      "RELEASED_CREDIT_VALUE      0\n",
      "PURCHASE_ORDER_TYPE        0\n",
      "COMPANY_CODE               0\n",
      "ORDER_CREATION_DATE        0\n",
      "ORDER_CREATION_TIME        0\n",
      "CREDIT_CONTROL_AREA        0\n",
      "SOLD_TO_PARTY              0\n",
      "ORDER_AMOUNT               0\n",
      "REQUESTED_DELIVERY_DATE    0\n",
      "ORDER_CURRENCY             0\n",
      "CREDIT_STATUS              0\n",
      "CUSTOMER_NUMBER            0\n",
      "AMOUNT_IN_USD              0\n",
      "UNIQUE_CUST_ID             0\n",
      "id                         0\n",
      "dtype: int64\n"
     ]
    },
    {
     "name": "stderr",
     "output_type": "stream",
     "text": [
      "127.0.0.1 - - [22/Jun/2023 22:55:16] \"OPTIONS /predict HTTP/1.1\" 200 -\n",
      "127.0.0.1 - - [22/Jun/2023 22:55:16] \"POST /predict HTTP/1.1\" 200 -\n"
     ]
    },
    {
     "name": "stdout",
     "output_type": "stream",
     "text": [
      "[{'SL_NO': 4, 'CUSTOMER_ORDER_ID': 930253442, 'SALES_ORG': 2381, 'DISTRIBUTION_CHANNEL': 'Greece', 'DIVISION': 'South-Region', 'RELEASED_CREDIT_VALUE': 0, 'PURCHASE_ORDER_TYPE': 'N000', 'COMPANY_CODE': 3290, 'ORDER_CREATION_DATE': '01-01-2022', 'ORDER_CREATION_TIME': '160020', 'CREDIT_CONTROL_AREA': 'SR01', 'SOLD_TO_PARTY': 947942786, 'ORDER_AMOUNT': 0, 'REQUESTED_DELIVERY_DATE': '06-01-2022', 'ORDER_CURRENCY': 'EUR', 'CREDIT_STATUS': '64', 'CUSTOMER_NUMBER': 1210351400, 'AMOUNT_IN_USD': 0, 'UNIQUE_CUST_ID': 12103514003290, 'id': 4}]\n",
      "<class 'list'>\n",
      "SL_NO                      0\n",
      "CUSTOMER_ORDER_ID          0\n",
      "SALES_ORG                  0\n",
      "DISTRIBUTION_CHANNEL       0\n",
      "DIVISION                   0\n",
      "RELEASED_CREDIT_VALUE      0\n",
      "PURCHASE_ORDER_TYPE        0\n",
      "COMPANY_CODE               0\n",
      "ORDER_CREATION_DATE        0\n",
      "ORDER_CREATION_TIME        0\n",
      "CREDIT_CONTROL_AREA        0\n",
      "SOLD_TO_PARTY              0\n",
      "ORDER_AMOUNT               0\n",
      "REQUESTED_DELIVERY_DATE    0\n",
      "ORDER_CURRENCY             0\n",
      "CREDIT_STATUS              0\n",
      "CUSTOMER_NUMBER            0\n",
      "AMOUNT_IN_USD              0\n",
      "UNIQUE_CUST_ID             0\n",
      "id                         0\n",
      "dtype: int64\n"
     ]
    },
    {
     "name": "stderr",
     "output_type": "stream",
     "text": [
      "127.0.0.1 - - [22/Jun/2023 22:56:13] \"OPTIONS /predict HTTP/1.1\" 200 -\n",
      "127.0.0.1 - - [22/Jun/2023 22:56:13] \"POST /predict HTTP/1.1\" 200 -\n"
     ]
    },
    {
     "name": "stdout",
     "output_type": "stream",
     "text": [
      "[{'SL_NO': 4, 'CUSTOMER_ORDER_ID': 930253442, 'SALES_ORG': 2381, 'DISTRIBUTION_CHANNEL': 'Greece', 'DIVISION': 'South-Region', 'RELEASED_CREDIT_VALUE': 0, 'PURCHASE_ORDER_TYPE': 'N000', 'COMPANY_CODE': 3290, 'ORDER_CREATION_DATE': '01-01-2022', 'ORDER_CREATION_TIME': '160020', 'CREDIT_CONTROL_AREA': 'SR01', 'SOLD_TO_PARTY': 947942786, 'ORDER_AMOUNT': 0, 'REQUESTED_DELIVERY_DATE': '06-01-2022', 'ORDER_CURRENCY': 'EUR', 'CREDIT_STATUS': '64', 'CUSTOMER_NUMBER': 1210351400, 'AMOUNT_IN_USD': 0, 'UNIQUE_CUST_ID': 12103514003290, 'id': 4}]\n",
      "<class 'list'>\n",
      "SL_NO                      0\n",
      "CUSTOMER_ORDER_ID          0\n",
      "SALES_ORG                  0\n",
      "DISTRIBUTION_CHANNEL       0\n",
      "DIVISION                   0\n",
      "RELEASED_CREDIT_VALUE      0\n",
      "PURCHASE_ORDER_TYPE        0\n",
      "COMPANY_CODE               0\n",
      "ORDER_CREATION_DATE        0\n",
      "ORDER_CREATION_TIME        0\n",
      "CREDIT_CONTROL_AREA        0\n",
      "SOLD_TO_PARTY              0\n",
      "ORDER_AMOUNT               0\n",
      "REQUESTED_DELIVERY_DATE    0\n",
      "ORDER_CURRENCY             0\n",
      "CREDIT_STATUS              0\n",
      "CUSTOMER_NUMBER            0\n",
      "AMOUNT_IN_USD              0\n",
      "UNIQUE_CUST_ID             0\n",
      "id                         0\n",
      "dtype: int64\n"
     ]
    },
    {
     "name": "stderr",
     "output_type": "stream",
     "text": [
      "127.0.0.1 - - [22/Jun/2023 22:57:56] \"OPTIONS /predict HTTP/1.1\" 200 -\n",
      "127.0.0.1 - - [22/Jun/2023 22:57:56] \"POST /predict HTTP/1.1\" 200 -\n"
     ]
    },
    {
     "name": "stdout",
     "output_type": "stream",
     "text": [
      "[{'SL_NO': 4, 'CUSTOMER_ORDER_ID': 930253442, 'SALES_ORG': 2381, 'DISTRIBUTION_CHANNEL': 'Greece', 'DIVISION': 'South-Region', 'RELEASED_CREDIT_VALUE': 0, 'PURCHASE_ORDER_TYPE': 'N000', 'COMPANY_CODE': 3290, 'ORDER_CREATION_DATE': '01-01-2022', 'ORDER_CREATION_TIME': '160020', 'CREDIT_CONTROL_AREA': 'SR01', 'SOLD_TO_PARTY': 947942786, 'ORDER_AMOUNT': 162.44232177734375, 'REQUESTED_DELIVERY_DATE': '06-01-2022', 'ORDER_CURRENCY': 'EUR', 'CREDIT_STATUS': '64', 'CUSTOMER_NUMBER': 1210351400, 'AMOUNT_IN_USD': 178.3779135437012, 'UNIQUE_CUST_ID': 12103514003290, 'id': 4}]\n",
      "<class 'list'>\n",
      "SL_NO                      0\n",
      "CUSTOMER_ORDER_ID          0\n",
      "SALES_ORG                  0\n",
      "DISTRIBUTION_CHANNEL       0\n",
      "DIVISION                   0\n",
      "RELEASED_CREDIT_VALUE      0\n",
      "PURCHASE_ORDER_TYPE        0\n",
      "COMPANY_CODE               0\n",
      "ORDER_CREATION_DATE        0\n",
      "ORDER_CREATION_TIME        0\n",
      "CREDIT_CONTROL_AREA        0\n",
      "SOLD_TO_PARTY              0\n",
      "ORDER_AMOUNT               0\n",
      "REQUESTED_DELIVERY_DATE    0\n",
      "ORDER_CURRENCY             0\n",
      "CREDIT_STATUS              0\n",
      "CUSTOMER_NUMBER            0\n",
      "AMOUNT_IN_USD              0\n",
      "UNIQUE_CUST_ID             0\n",
      "id                         0\n",
      "dtype: int64\n"
     ]
    },
    {
     "name": "stderr",
     "output_type": "stream",
     "text": [
      "127.0.0.1 - - [22/Jun/2023 22:59:01] \"OPTIONS /predict HTTP/1.1\" 200 -\n",
      "127.0.0.1 - - [22/Jun/2023 22:59:01] \"POST /predict HTTP/1.1\" 200 -\n"
     ]
    },
    {
     "name": "stdout",
     "output_type": "stream",
     "text": [
      "[{'SL_NO': 4, 'CUSTOMER_ORDER_ID': 930253442, 'SALES_ORG': 2381, 'DISTRIBUTION_CHANNEL': 'Greece', 'DIVISION': 'South-Region', 'RELEASED_CREDIT_VALUE': 0, 'PURCHASE_ORDER_TYPE': 'N000', 'COMPANY_CODE': 3290, 'ORDER_CREATION_DATE': '01-01-2022', 'ORDER_CREATION_TIME': '160020', 'CREDIT_CONTROL_AREA': 'SR01', 'SOLD_TO_PARTY': 947942786, 'ORDER_AMOUNT': 0, 'REQUESTED_DELIVERY_DATE': '06-01-2022', 'ORDER_CURRENCY': 'EUR', 'CREDIT_STATUS': '64', 'CUSTOMER_NUMBER': 1210351400, 'AMOUNT_IN_USD': 0, 'UNIQUE_CUST_ID': 12103514003290, 'id': 4}]\n",
      "<class 'list'>\n",
      "SL_NO                      0\n",
      "CUSTOMER_ORDER_ID          0\n",
      "SALES_ORG                  0\n",
      "DISTRIBUTION_CHANNEL       0\n",
      "DIVISION                   0\n",
      "RELEASED_CREDIT_VALUE      0\n",
      "PURCHASE_ORDER_TYPE        0\n",
      "COMPANY_CODE               0\n",
      "ORDER_CREATION_DATE        0\n",
      "ORDER_CREATION_TIME        0\n",
      "CREDIT_CONTROL_AREA        0\n",
      "SOLD_TO_PARTY              0\n",
      "ORDER_AMOUNT               0\n",
      "REQUESTED_DELIVERY_DATE    0\n",
      "ORDER_CURRENCY             0\n",
      "CREDIT_STATUS              0\n",
      "CUSTOMER_NUMBER            0\n",
      "AMOUNT_IN_USD              0\n",
      "UNIQUE_CUST_ID             0\n",
      "id                         0\n",
      "dtype: int64\n"
     ]
    },
    {
     "name": "stderr",
     "output_type": "stream",
     "text": [
      "127.0.0.1 - - [22/Jun/2023 22:59:37] \"OPTIONS /predict HTTP/1.1\" 200 -\n",
      "127.0.0.1 - - [22/Jun/2023 22:59:37] \"POST /predict HTTP/1.1\" 200 -\n"
     ]
    },
    {
     "name": "stdout",
     "output_type": "stream",
     "text": [
      "[{'SL_NO': 4, 'CUSTOMER_ORDER_ID': 930253442, 'SALES_ORG': 2381, 'DISTRIBUTION_CHANNEL': 'Greece', 'DIVISION': 'South-Region', 'RELEASED_CREDIT_VALUE': 0, 'PURCHASE_ORDER_TYPE': 'N000', 'COMPANY_CODE': 3290, 'ORDER_CREATION_DATE': '01-01-2022', 'ORDER_CREATION_TIME': '160020', 'CREDIT_CONTROL_AREA': 'SR01', 'SOLD_TO_PARTY': 947942786, 'ORDER_AMOUNT': 0, 'REQUESTED_DELIVERY_DATE': '06-01-2022', 'ORDER_CURRENCY': 'EUR', 'CREDIT_STATUS': '64', 'CUSTOMER_NUMBER': 1210351400, 'AMOUNT_IN_USD': 0, 'UNIQUE_CUST_ID': 12103514003290, 'id': 4}]\n",
      "<class 'list'>\n",
      "SL_NO                      0\n",
      "CUSTOMER_ORDER_ID          0\n",
      "SALES_ORG                  0\n",
      "DISTRIBUTION_CHANNEL       0\n",
      "DIVISION                   0\n",
      "RELEASED_CREDIT_VALUE      0\n",
      "PURCHASE_ORDER_TYPE        0\n",
      "COMPANY_CODE               0\n",
      "ORDER_CREATION_DATE        0\n",
      "ORDER_CREATION_TIME        0\n",
      "CREDIT_CONTROL_AREA        0\n",
      "SOLD_TO_PARTY              0\n",
      "ORDER_AMOUNT               0\n",
      "REQUESTED_DELIVERY_DATE    0\n",
      "ORDER_CURRENCY             0\n",
      "CREDIT_STATUS              0\n",
      "CUSTOMER_NUMBER            0\n",
      "AMOUNT_IN_USD              0\n",
      "UNIQUE_CUST_ID             0\n",
      "id                         0\n",
      "dtype: int64\n"
     ]
    },
    {
     "name": "stderr",
     "output_type": "stream",
     "text": [
      "127.0.0.1 - - [22/Jun/2023 23:00:09] \"OPTIONS /predict HTTP/1.1\" 200 -\n",
      "127.0.0.1 - - [22/Jun/2023 23:00:09] \"POST /predict HTTP/1.1\" 200 -\n"
     ]
    },
    {
     "name": "stdout",
     "output_type": "stream",
     "text": [
      "[{'SL_NO': 4, 'CUSTOMER_ORDER_ID': 930253442, 'SALES_ORG': 2381, 'DISTRIBUTION_CHANNEL': 'Greece', 'DIVISION': 'South-Region', 'RELEASED_CREDIT_VALUE': 0, 'PURCHASE_ORDER_TYPE': 'N000', 'COMPANY_CODE': 3290, 'ORDER_CREATION_DATE': '01-01-2022', 'ORDER_CREATION_TIME': '160020', 'CREDIT_CONTROL_AREA': 'SR01', 'SOLD_TO_PARTY': 947942786, 'ORDER_AMOUNT': 0, 'REQUESTED_DELIVERY_DATE': '06-01-2022', 'ORDER_CURRENCY': 'EUR', 'CREDIT_STATUS': '64', 'CUSTOMER_NUMBER': 1210351400, 'AMOUNT_IN_USD': 0, 'UNIQUE_CUST_ID': 12103514003290, 'id': 4}]\n",
      "<class 'list'>\n",
      "SL_NO                      0\n",
      "CUSTOMER_ORDER_ID          0\n",
      "SALES_ORG                  0\n",
      "DISTRIBUTION_CHANNEL       0\n",
      "DIVISION                   0\n",
      "RELEASED_CREDIT_VALUE      0\n",
      "PURCHASE_ORDER_TYPE        0\n",
      "COMPANY_CODE               0\n",
      "ORDER_CREATION_DATE        0\n",
      "ORDER_CREATION_TIME        0\n",
      "CREDIT_CONTROL_AREA        0\n",
      "SOLD_TO_PARTY              0\n",
      "ORDER_AMOUNT               0\n",
      "REQUESTED_DELIVERY_DATE    0\n",
      "ORDER_CURRENCY             0\n",
      "CREDIT_STATUS              0\n",
      "CUSTOMER_NUMBER            0\n",
      "AMOUNT_IN_USD              0\n",
      "UNIQUE_CUST_ID             0\n",
      "id                         0\n",
      "dtype: int64\n"
     ]
    },
    {
     "name": "stderr",
     "output_type": "stream",
     "text": [
      "127.0.0.1 - - [22/Jun/2023 23:01:08] \"OPTIONS /predict HTTP/1.1\" 200 -\n",
      "127.0.0.1 - - [22/Jun/2023 23:01:09] \"POST /predict HTTP/1.1\" 200 -\n"
     ]
    },
    {
     "name": "stdout",
     "output_type": "stream",
     "text": [
      "[{'SL_NO': 4, 'CUSTOMER_ORDER_ID': 930253442, 'SALES_ORG': 2381, 'DISTRIBUTION_CHANNEL': 'Greece', 'DIVISION': 'South-Region', 'RELEASED_CREDIT_VALUE': 0, 'PURCHASE_ORDER_TYPE': 'N000', 'COMPANY_CODE': 3290, 'ORDER_CREATION_DATE': '01-01-2022', 'ORDER_CREATION_TIME': '160020', 'CREDIT_CONTROL_AREA': 'SR01', 'SOLD_TO_PARTY': 947942786, 'ORDER_AMOUNT': 0, 'REQUESTED_DELIVERY_DATE': '06-01-2022', 'ORDER_CURRENCY': 'EUR', 'CREDIT_STATUS': '64', 'CUSTOMER_NUMBER': 1210351400, 'AMOUNT_IN_USD': 0, 'UNIQUE_CUST_ID': 12103514003290, 'id': 4}]\n",
      "<class 'list'>\n",
      "SL_NO                      0\n",
      "CUSTOMER_ORDER_ID          0\n",
      "SALES_ORG                  0\n",
      "DISTRIBUTION_CHANNEL       0\n",
      "DIVISION                   0\n",
      "RELEASED_CREDIT_VALUE      0\n",
      "PURCHASE_ORDER_TYPE        0\n",
      "COMPANY_CODE               0\n",
      "ORDER_CREATION_DATE        0\n",
      "ORDER_CREATION_TIME        0\n",
      "CREDIT_CONTROL_AREA        0\n",
      "SOLD_TO_PARTY              0\n",
      "ORDER_AMOUNT               0\n",
      "REQUESTED_DELIVERY_DATE    0\n",
      "ORDER_CURRENCY             0\n",
      "CREDIT_STATUS              0\n",
      "CUSTOMER_NUMBER            0\n",
      "AMOUNT_IN_USD              0\n",
      "UNIQUE_CUST_ID             0\n",
      "id                         0\n",
      "dtype: int64\n"
     ]
    },
    {
     "name": "stderr",
     "output_type": "stream",
     "text": [
      "127.0.0.1 - - [22/Jun/2023 23:01:20] \"OPTIONS /predict HTTP/1.1\" 200 -\n",
      "127.0.0.1 - - [22/Jun/2023 23:01:21] \"POST /predict HTTP/1.1\" 200 -\n"
     ]
    },
    {
     "name": "stdout",
     "output_type": "stream",
     "text": [
      "[{'SL_NO': 4, 'CUSTOMER_ORDER_ID': 930253442, 'SALES_ORG': 2381, 'DISTRIBUTION_CHANNEL': 'Greece', 'DIVISION': 'South-Region', 'RELEASED_CREDIT_VALUE': 0, 'PURCHASE_ORDER_TYPE': 'N000', 'COMPANY_CODE': 3290, 'ORDER_CREATION_DATE': '01-01-2022', 'ORDER_CREATION_TIME': '160020', 'CREDIT_CONTROL_AREA': 'SR01', 'SOLD_TO_PARTY': 947942786, 'ORDER_AMOUNT': '162.44', 'REQUESTED_DELIVERY_DATE': '06-01-2022', 'ORDER_CURRENCY': 'EUR', 'CREDIT_STATUS': '64', 'CUSTOMER_NUMBER': 1210351400, 'AMOUNT_IN_USD': '178.38', 'UNIQUE_CUST_ID': 12103514003290, 'id': 4}]\n",
      "<class 'list'>\n",
      "SL_NO                      0\n",
      "CUSTOMER_ORDER_ID          0\n",
      "SALES_ORG                  0\n",
      "DISTRIBUTION_CHANNEL       0\n",
      "DIVISION                   0\n",
      "RELEASED_CREDIT_VALUE      0\n",
      "PURCHASE_ORDER_TYPE        0\n",
      "COMPANY_CODE               0\n",
      "ORDER_CREATION_DATE        0\n",
      "ORDER_CREATION_TIME        0\n",
      "CREDIT_CONTROL_AREA        0\n",
      "SOLD_TO_PARTY              0\n",
      "ORDER_AMOUNT               0\n",
      "REQUESTED_DELIVERY_DATE    0\n",
      "ORDER_CURRENCY             0\n",
      "CREDIT_STATUS              0\n",
      "CUSTOMER_NUMBER            0\n",
      "AMOUNT_IN_USD              0\n",
      "UNIQUE_CUST_ID             0\n",
      "id                         0\n",
      "dtype: int64\n"
     ]
    },
    {
     "name": "stderr",
     "output_type": "stream",
     "text": [
      "127.0.0.1 - - [22/Jun/2023 23:01:30] \"OPTIONS /predict HTTP/1.1\" 200 -\n",
      "127.0.0.1 - - [22/Jun/2023 23:01:31] \"POST /predict HTTP/1.1\" 200 -\n"
     ]
    },
    {
     "name": "stdout",
     "output_type": "stream",
     "text": [
      "[{'SL_NO': 4, 'CUSTOMER_ORDER_ID': 930253442, 'SALES_ORG': 2381, 'DISTRIBUTION_CHANNEL': 'Greece', 'DIVISION': 'South-Region', 'RELEASED_CREDIT_VALUE': 0, 'PURCHASE_ORDER_TYPE': 'N000', 'COMPANY_CODE': 3290, 'ORDER_CREATION_DATE': '01-01-2022', 'ORDER_CREATION_TIME': '160020', 'CREDIT_CONTROL_AREA': 'SR01', 'SOLD_TO_PARTY': 947942786, 'ORDER_AMOUNT': '162.44', 'REQUESTED_DELIVERY_DATE': '06-01-2022', 'ORDER_CURRENCY': 'EUR', 'CREDIT_STATUS': '64', 'CUSTOMER_NUMBER': 1210351400, 'AMOUNT_IN_USD': '178.38', 'UNIQUE_CUST_ID': 12103514003290, 'id': 4}]\n",
      "<class 'list'>\n",
      "SL_NO                      0\n",
      "CUSTOMER_ORDER_ID          0\n",
      "SALES_ORG                  0\n",
      "DISTRIBUTION_CHANNEL       0\n",
      "DIVISION                   0\n",
      "RELEASED_CREDIT_VALUE      0\n",
      "PURCHASE_ORDER_TYPE        0\n",
      "COMPANY_CODE               0\n",
      "ORDER_CREATION_DATE        0\n",
      "ORDER_CREATION_TIME        0\n",
      "CREDIT_CONTROL_AREA        0\n",
      "SOLD_TO_PARTY              0\n",
      "ORDER_AMOUNT               0\n",
      "REQUESTED_DELIVERY_DATE    0\n",
      "ORDER_CURRENCY             0\n",
      "CREDIT_STATUS              0\n",
      "CUSTOMER_NUMBER            0\n",
      "AMOUNT_IN_USD              0\n",
      "UNIQUE_CUST_ID             0\n",
      "id                         0\n",
      "dtype: int64\n"
     ]
    },
    {
     "name": "stderr",
     "output_type": "stream",
     "text": [
      "127.0.0.1 - - [22/Jun/2023 23:01:41] \"OPTIONS /predict HTTP/1.1\" 200 -\n",
      "127.0.0.1 - - [22/Jun/2023 23:01:41] \"POST /predict HTTP/1.1\" 200 -\n"
     ]
    },
    {
     "name": "stdout",
     "output_type": "stream",
     "text": [
      "[{'SL_NO': 4, 'CUSTOMER_ORDER_ID': 930253442, 'SALES_ORG': 2381, 'DISTRIBUTION_CHANNEL': 'Greece', 'DIVISION': 'South-Region', 'RELEASED_CREDIT_VALUE': 0, 'PURCHASE_ORDER_TYPE': 'N000', 'COMPANY_CODE': 3290, 'ORDER_CREATION_DATE': '01-01-2022', 'ORDER_CREATION_TIME': '160020', 'CREDIT_CONTROL_AREA': 'SR01', 'SOLD_TO_PARTY': 947942786, 'ORDER_AMOUNT': 0, 'REQUESTED_DELIVERY_DATE': '06-01-2022', 'ORDER_CURRENCY': 'EUR', 'CREDIT_STATUS': '64', 'CUSTOMER_NUMBER': 1210351400, 'AMOUNT_IN_USD': 0, 'UNIQUE_CUST_ID': 12103514003290, 'id': 4}]\n",
      "<class 'list'>\n",
      "SL_NO                      0\n",
      "CUSTOMER_ORDER_ID          0\n",
      "SALES_ORG                  0\n",
      "DISTRIBUTION_CHANNEL       0\n",
      "DIVISION                   0\n",
      "RELEASED_CREDIT_VALUE      0\n",
      "PURCHASE_ORDER_TYPE        0\n",
      "COMPANY_CODE               0\n",
      "ORDER_CREATION_DATE        0\n",
      "ORDER_CREATION_TIME        0\n",
      "CREDIT_CONTROL_AREA        0\n",
      "SOLD_TO_PARTY              0\n",
      "ORDER_AMOUNT               0\n",
      "REQUESTED_DELIVERY_DATE    0\n",
      "ORDER_CURRENCY             0\n",
      "CREDIT_STATUS              0\n",
      "CUSTOMER_NUMBER            0\n",
      "AMOUNT_IN_USD              0\n",
      "UNIQUE_CUST_ID             0\n",
      "id                         0\n",
      "dtype: int64\n"
     ]
    },
    {
     "name": "stderr",
     "output_type": "stream",
     "text": [
      "127.0.0.1 - - [22/Jun/2023 23:02:19] \"OPTIONS /predict HTTP/1.1\" 200 -\n",
      "127.0.0.1 - - [22/Jun/2023 23:02:20] \"POST /predict HTTP/1.1\" 200 -\n"
     ]
    },
    {
     "name": "stdout",
     "output_type": "stream",
     "text": [
      "[{'SL_NO': 4, 'CUSTOMER_ORDER_ID': 930253442, 'SALES_ORG': 2381, 'DISTRIBUTION_CHANNEL': 'Greece', 'DIVISION': 'South-Region', 'RELEASED_CREDIT_VALUE': 0, 'PURCHASE_ORDER_TYPE': 'N000', 'COMPANY_CODE': 3290, 'ORDER_CREATION_DATE': '01-01-2022', 'ORDER_CREATION_TIME': '160020', 'CREDIT_CONTROL_AREA': 'SR01', 'SOLD_TO_PARTY': 947942786, 'ORDER_AMOUNT': 0, 'REQUESTED_DELIVERY_DATE': '06-01-2022', 'ORDER_CURRENCY': 'EUR', 'CREDIT_STATUS': '64', 'CUSTOMER_NUMBER': 1210351400, 'AMOUNT_IN_USD': 0, 'UNIQUE_CUST_ID': 12103514003290, 'id': 4}]\n",
      "<class 'list'>\n",
      "SL_NO                      0\n",
      "CUSTOMER_ORDER_ID          0\n",
      "SALES_ORG                  0\n",
      "DISTRIBUTION_CHANNEL       0\n",
      "DIVISION                   0\n",
      "RELEASED_CREDIT_VALUE      0\n",
      "PURCHASE_ORDER_TYPE        0\n",
      "COMPANY_CODE               0\n",
      "ORDER_CREATION_DATE        0\n",
      "ORDER_CREATION_TIME        0\n",
      "CREDIT_CONTROL_AREA        0\n",
      "SOLD_TO_PARTY              0\n",
      "ORDER_AMOUNT               0\n",
      "REQUESTED_DELIVERY_DATE    0\n",
      "ORDER_CURRENCY             0\n",
      "CREDIT_STATUS              0\n",
      "CUSTOMER_NUMBER            0\n",
      "AMOUNT_IN_USD              0\n",
      "UNIQUE_CUST_ID             0\n",
      "id                         0\n",
      "dtype: int64\n"
     ]
    },
    {
     "name": "stderr",
     "output_type": "stream",
     "text": [
      "127.0.0.1 - - [22/Jun/2023 23:02:56] \"OPTIONS /predict HTTP/1.1\" 200 -\n",
      "127.0.0.1 - - [22/Jun/2023 23:02:56] \"POST /predict HTTP/1.1\" 200 -\n"
     ]
    },
    {
     "name": "stdout",
     "output_type": "stream",
     "text": [
      "[{'SL_NO': 4, 'CUSTOMER_ORDER_ID': 930253442, 'SALES_ORG': 2381, 'DISTRIBUTION_CHANNEL': 'Greece', 'DIVISION': 'South-Region', 'RELEASED_CREDIT_VALUE': 0, 'PURCHASE_ORDER_TYPE': 'N000', 'COMPANY_CODE': 3290, 'ORDER_CREATION_DATE': '01-01-2022', 'ORDER_CREATION_TIME': '160020', 'CREDIT_CONTROL_AREA': 'SR01', 'SOLD_TO_PARTY': 947942786, 'ORDER_AMOUNT': '162.44', 'REQUESTED_DELIVERY_DATE': '06-01-2022', 'ORDER_CURRENCY': 'EUR', 'CREDIT_STATUS': '64', 'CUSTOMER_NUMBER': 1210351400, 'AMOUNT_IN_USD': '178.38', 'UNIQUE_CUST_ID': 12103514003290, 'id': 4}]\n",
      "<class 'list'>\n",
      "SL_NO                      0\n",
      "CUSTOMER_ORDER_ID          0\n",
      "SALES_ORG                  0\n",
      "DISTRIBUTION_CHANNEL       0\n",
      "DIVISION                   0\n",
      "RELEASED_CREDIT_VALUE      0\n",
      "PURCHASE_ORDER_TYPE        0\n",
      "COMPANY_CODE               0\n",
      "ORDER_CREATION_DATE        0\n",
      "ORDER_CREATION_TIME        0\n",
      "CREDIT_CONTROL_AREA        0\n",
      "SOLD_TO_PARTY              0\n",
      "ORDER_AMOUNT               0\n",
      "REQUESTED_DELIVERY_DATE    0\n",
      "ORDER_CURRENCY             0\n",
      "CREDIT_STATUS              0\n",
      "CUSTOMER_NUMBER            0\n",
      "AMOUNT_IN_USD              0\n",
      "UNIQUE_CUST_ID             0\n",
      "id                         0\n",
      "dtype: int64\n"
     ]
    },
    {
     "name": "stderr",
     "output_type": "stream",
     "text": [
      "127.0.0.1 - - [22/Jun/2023 23:06:54] \"OPTIONS /predict HTTP/1.1\" 200 -\n",
      "127.0.0.1 - - [22/Jun/2023 23:06:54] \"POST /predict HTTP/1.1\" 200 -\n"
     ]
    },
    {
     "name": "stdout",
     "output_type": "stream",
     "text": [
      "[{'SL_NO': 4, 'CUSTOMER_ORDER_ID': 930253442, 'SALES_ORG': 2381, 'DISTRIBUTION_CHANNEL': 'Greece', 'DIVISION': 'South-Region', 'RELEASED_CREDIT_VALUE': 0, 'PURCHASE_ORDER_TYPE': 'N000', 'COMPANY_CODE': 3290, 'ORDER_CREATION_DATE': '01-01-2022', 'ORDER_CREATION_TIME': '160020', 'CREDIT_CONTROL_AREA': 'SR01', 'SOLD_TO_PARTY': 947942786, 'ORDER_AMOUNT': 0, 'REQUESTED_DELIVERY_DATE': '06-01-2022', 'ORDER_CURRENCY': 'EUR', 'CREDIT_STATUS': '64', 'CUSTOMER_NUMBER': 1210351400, 'AMOUNT_IN_USD': 0, 'UNIQUE_CUST_ID': 12103514003290, 'id': 4}]\n",
      "<class 'list'>\n",
      "SL_NO                      0\n",
      "CUSTOMER_ORDER_ID          0\n",
      "SALES_ORG                  0\n",
      "DISTRIBUTION_CHANNEL       0\n",
      "DIVISION                   0\n",
      "RELEASED_CREDIT_VALUE      0\n",
      "PURCHASE_ORDER_TYPE        0\n",
      "COMPANY_CODE               0\n",
      "ORDER_CREATION_DATE        0\n",
      "ORDER_CREATION_TIME        0\n",
      "CREDIT_CONTROL_AREA        0\n",
      "SOLD_TO_PARTY              0\n",
      "ORDER_AMOUNT               0\n",
      "REQUESTED_DELIVERY_DATE    0\n",
      "ORDER_CURRENCY             0\n",
      "CREDIT_STATUS              0\n",
      "CUSTOMER_NUMBER            0\n",
      "AMOUNT_IN_USD              0\n",
      "UNIQUE_CUST_ID             0\n",
      "id                         0\n",
      "dtype: int64\n"
     ]
    },
    {
     "name": "stderr",
     "output_type": "stream",
     "text": [
      "127.0.0.1 - - [22/Jun/2023 23:12:54] \"OPTIONS /predict HTTP/1.1\" 200 -\n",
      "127.0.0.1 - - [22/Jun/2023 23:12:54] \"POST /predict HTTP/1.1\" 200 -\n"
     ]
    },
    {
     "name": "stdout",
     "output_type": "stream",
     "text": [
      "[{'SL_NO': 207, 'CUSTOMER_ORDER_ID': 885865869, 'SALES_ORG': 2845, 'DISTRIBUTION_CHANNEL': 'Sao Tome and Principe', 'DIVISION': 'North-Region', 'RELEASED_CREDIT_VALUE': 297.02, 'PURCHASE_ORDER_TYPE': '9999', 'COMPANY_CODE': 59, 'ORDER_CREATION_DATE': '03-01-2022', 'ORDER_CREATION_TIME': '52034', 'CREDIT_CONTROL_AREA': 'NR01', 'SOLD_TO_PARTY': 909572567, 'ORDER_AMOUNT': 249.6, 'REQUESTED_DELIVERY_DATE': '05-01-2022', 'ORDER_CURRENCY': 'RON', 'CREDIT_STATUS': '93', 'CUSTOMER_NUMBER': 1210142642, 'AMOUNT_IN_USD': 57.2763979548532, 'UNIQUE_CUST_ID': 121014264259, 'id': 207}]\n",
      "<class 'list'>\n",
      "SL_NO                      0\n",
      "CUSTOMER_ORDER_ID          0\n",
      "SALES_ORG                  0\n",
      "DISTRIBUTION_CHANNEL       0\n",
      "DIVISION                   0\n",
      "RELEASED_CREDIT_VALUE      0\n",
      "PURCHASE_ORDER_TYPE        0\n",
      "COMPANY_CODE               0\n",
      "ORDER_CREATION_DATE        0\n",
      "ORDER_CREATION_TIME        0\n",
      "CREDIT_CONTROL_AREA        0\n",
      "SOLD_TO_PARTY              0\n",
      "ORDER_AMOUNT               0\n",
      "REQUESTED_DELIVERY_DATE    0\n",
      "ORDER_CURRENCY             0\n",
      "CREDIT_STATUS              0\n",
      "CUSTOMER_NUMBER            0\n",
      "AMOUNT_IN_USD              0\n",
      "UNIQUE_CUST_ID             0\n",
      "id                         0\n",
      "dtype: int64\n"
     ]
    },
    {
     "name": "stderr",
     "output_type": "stream",
     "text": [
      "127.0.0.1 - - [22/Jun/2023 23:13:19] \"OPTIONS /predict HTTP/1.1\" 200 -\n",
      "127.0.0.1 - - [22/Jun/2023 23:13:19] \"POST /predict HTTP/1.1\" 200 -\n"
     ]
    },
    {
     "name": "stdout",
     "output_type": "stream",
     "text": [
      "[{'SL_NO': 206, 'CUSTOMER_ORDER_ID': 766851940, 'SALES_ORG': 2829, 'DISTRIBUTION_CHANNEL': 'Jamaica', 'DIVISION': 'North-Region', 'RELEASED_CREDIT_VALUE': 0, 'PURCHASE_ORDER_TYPE': '9999', 'COMPANY_CODE': 135, 'ORDER_CREATION_DATE': '03-01-2022', 'ORDER_CREATION_TIME': '51953', 'CREDIT_CONTROL_AREA': 'NR01', 'SOLD_TO_PARTY': 883383299, 'ORDER_AMOUNT': 3117.77, 'REQUESTED_DELIVERY_DATE': '05-01-2022', 'ORDER_CURRENCY': 'CZK', 'CREDIT_STATUS': '64', 'CUSTOMER_NUMBER': 1230007723, 'AMOUNT_IN_USD': 142.647587839471, 'UNIQUE_CUST_ID': 1230007723135, 'id': 206}, {'SL_NO': 207, 'CUSTOMER_ORDER_ID': 885865869, 'SALES_ORG': 2845, 'DISTRIBUTION_CHANNEL': 'Sao Tome and Principe', 'DIVISION': 'North-Region', 'RELEASED_CREDIT_VALUE': 297.02, 'PURCHASE_ORDER_TYPE': '9999', 'COMPANY_CODE': 59, 'ORDER_CREATION_DATE': '03-01-2022', 'ORDER_CREATION_TIME': '52034', 'CREDIT_CONTROL_AREA': 'NR01', 'SOLD_TO_PARTY': 909572567, 'ORDER_AMOUNT': '269.03', 'REQUESTED_DELIVERY_DATE': '05-01-2022', 'ORDER_CURRENCY': 'RON', 'CREDIT_STATUS': '93', 'CUSTOMER_NUMBER': 1210142642, 'AMOUNT_IN_USD': '59.78', 'UNIQUE_CUST_ID': 121014264259, 'id': 207}]\n",
      "<class 'list'>\n",
      "SL_NO                      0\n",
      "CUSTOMER_ORDER_ID          0\n",
      "SALES_ORG                  0\n",
      "DISTRIBUTION_CHANNEL       0\n",
      "DIVISION                   0\n",
      "RELEASED_CREDIT_VALUE      0\n",
      "PURCHASE_ORDER_TYPE        0\n",
      "COMPANY_CODE               0\n",
      "ORDER_CREATION_DATE        0\n",
      "ORDER_CREATION_TIME        0\n",
      "CREDIT_CONTROL_AREA        0\n",
      "SOLD_TO_PARTY              0\n",
      "ORDER_AMOUNT               0\n",
      "REQUESTED_DELIVERY_DATE    0\n",
      "ORDER_CURRENCY             0\n",
      "CREDIT_STATUS              0\n",
      "CUSTOMER_NUMBER            0\n",
      "AMOUNT_IN_USD              0\n",
      "UNIQUE_CUST_ID             0\n",
      "id                         0\n",
      "dtype: int64\n"
     ]
    },
    {
     "name": "stderr",
     "output_type": "stream",
     "text": [
      "127.0.0.1 - - [22/Jun/2023 23:45:54] \"OPTIONS /predict HTTP/1.1\" 200 -\n",
      "127.0.0.1 - - [22/Jun/2023 23:45:54] \"POST /predict HTTP/1.1\" 200 -\n"
     ]
    },
    {
     "name": "stdout",
     "output_type": "stream",
     "text": [
      "[{'SL_NO': 4, 'CUSTOMER_ORDER_ID': 930253442, 'SALES_ORG': 2381, 'DISTRIBUTION_CHANNEL': 'Greece', 'DIVISION': 'South-Region', 'RELEASED_CREDIT_VALUE': 0, 'PURCHASE_ORDER_TYPE': 'N000', 'COMPANY_CODE': 3290, 'ORDER_CREATION_DATE': '01-01-2022', 'ORDER_CREATION_TIME': '160020', 'CREDIT_CONTROL_AREA': 'SR01', 'SOLD_TO_PARTY': 947942786, 'ORDER_AMOUNT': 0, 'REQUESTED_DELIVERY_DATE': '06-01-2022', 'ORDER_CURRENCY': 'EUR', 'CREDIT_STATUS': '64', 'CUSTOMER_NUMBER': 1210351400, 'AMOUNT_IN_USD': 0, 'UNIQUE_CUST_ID': 12103514003290, 'id': 4}]\n",
      "<class 'list'>\n",
      "SL_NO                      0\n",
      "CUSTOMER_ORDER_ID          0\n",
      "SALES_ORG                  0\n",
      "DISTRIBUTION_CHANNEL       0\n",
      "DIVISION                   0\n",
      "RELEASED_CREDIT_VALUE      0\n",
      "PURCHASE_ORDER_TYPE        0\n",
      "COMPANY_CODE               0\n",
      "ORDER_CREATION_DATE        0\n",
      "ORDER_CREATION_TIME        0\n",
      "CREDIT_CONTROL_AREA        0\n",
      "SOLD_TO_PARTY              0\n",
      "ORDER_AMOUNT               0\n",
      "REQUESTED_DELIVERY_DATE    0\n",
      "ORDER_CURRENCY             0\n",
      "CREDIT_STATUS              0\n",
      "CUSTOMER_NUMBER            0\n",
      "AMOUNT_IN_USD              0\n",
      "UNIQUE_CUST_ID             0\n",
      "id                         0\n",
      "dtype: int64\n"
     ]
    }
   ],
   "source": [
    "app = Flask(__name__)\n",
    "cors=CORS(app, origins='*')\n",
    "\n",
    "@app.route('/predict', methods=[\"POST\"])\n",
    "def predict():\n",
    "    resp=get_prediction(request.get_json())\n",
    "    \n",
    "\n",
    "    return jsonify({\"data\":(resp)})\n",
    "\n",
    "\n",
    "if __name__ == '__main__':\n",
    "    app.run()"
   ]
  },
  {
   "cell_type": "code",
   "execution_count": null,
   "id": "cf5bf454",
   "metadata": {},
   "outputs": [],
   "source": []
  }
 ],
 "metadata": {
  "kernelspec": {
   "display_name": "Python 3 (ipykernel)",
   "language": "python",
   "name": "python3"
  },
  "language_info": {
   "codemirror_mode": {
    "name": "ipython",
    "version": 3
   },
   "file_extension": ".py",
   "mimetype": "text/x-python",
   "name": "python",
   "nbconvert_exporter": "python",
   "pygments_lexer": "ipython3",
   "version": "3.11.3"
  }
 },
 "nbformat": 4,
 "nbformat_minor": 5
}
